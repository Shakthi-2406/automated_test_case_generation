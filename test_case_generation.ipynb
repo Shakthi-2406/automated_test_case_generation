{
 "cells": [
  {
   "cell_type": "markdown",
   "metadata": {},
   "source": [
    "Importing necessary modules"
   ]
  },
  {
   "cell_type": "code",
   "execution_count": 282,
   "metadata": {},
   "outputs": [],
   "source": [
    "import pandas as pd\n",
    "import numpy as np\n",
    "import itertools\n",
    "import matplotlib.pyplot as plt"
   ]
  },
  {
   "cell_type": "code",
   "execution_count": 283,
   "metadata": {},
   "outputs": [],
   "source": [
    "# input given \n",
    "\n",
    "FRD = '''\n",
    "speed - [50, 100]\n",
    "acceleration - [0, 5] \n",
    "time - [0, 3]\n",
    "if speed > 75, \n",
    "then distance = speed * time\n",
    "else, \n",
    "distance = 0.5 * acceleration * time^2\n",
    "end\n",
    "'''"
   ]
  },
  {
   "cell_type": "markdown",
   "metadata": {},
   "source": [
    "<div class=\"alert alert-block alert-info\">\n",
    "<i>Yet to integrate the Few-shot prompting API calling part, the code for API call is available at <a href=\"https://colab.research.google.com/drive/1QOxmksOYcsZDx7V-tKGBNL2ISUxiDLD3#scrollTo=ORe-LJwKNbxI\">Notebook File for Few-shot prompting response</a> https://colab.research.google.com/drive/1QOxmksOYcsZDx7V-tKGBNL2ISUxiDLD3#scrollTo=ORe-LJwKNbxI</i>\n",
    "</div>"
   ]
  },
  {
   "cell_type": "code",
   "execution_count": 284,
   "metadata": {},
   "outputs": [],
   "source": [
    "# output from few shot prompting\n",
    "\n",
    "dict_from_few_shot_prompting = {\n",
    "  \"variables\": [\"speed\", \"acceleration\", \"distance\", \"time\"],\n",
    "  \"equations\": [\n",
    "    {\"equation\": \"distance = speed * time\", \"condition\": \"speed > 75\"},\n",
    "    {\"equation\": \"distance = 0.5 * acceleration * time^2\", \"condition\": \"speed <= 75\"}\n",
    "  ],\n",
    "  \"ranges\": {\n",
    "    \"speed\": [50, 100],\n",
    "    \"acceleration\": [0, 5],\n",
    "    \"time\": [0, 3]\n",
    "  }\n",
    "}"
   ]
  },
  {
   "cell_type": "code",
   "execution_count": 285,
   "metadata": {},
   "outputs": [],
   "source": [
    "# extracting the necessary details from few shot prompting api call \n",
    "\n",
    "variables = dict_from_few_shot_prompting['variables']\n",
    "equations = dict_from_few_shot_prompting['equations']\n",
    "ranges = dict_from_few_shot_prompting['ranges']\n",
    "independant_variables = [var for var in ranges.keys()]"
   ]
  },
  {
   "cell_type": "code",
   "execution_count": 286,
   "metadata": {},
   "outputs": [],
   "source": [
    "dependant_variables = []\n",
    "for equation in equations:\n",
    "    variable = equation['equation'].split('=')[0].strip()\n",
    "    dependant_variables.append(variable)\n",
    "\n",
    "dependant_variables = list(set(dependant_variables))"
   ]
  },
  {
   "cell_type": "code",
   "execution_count": 287,
   "metadata": {},
   "outputs": [],
   "source": [
    "miscellaneous_variables = [var for var in variables if var not in dependant_variables and var not in independant_variables]\n",
    "\n",
    "if len(miscellaneous_variables) > 0:\n",
    "    raise Exception(f'Variable/s missing for implementation: {miscellaneous_variables}')"
   ]
  },
  {
   "cell_type": "code",
   "execution_count": 288,
   "metadata": {},
   "outputs": [],
   "source": [
    "confusables = [\n",
    "    ('^', '**')\n",
    "]\n",
    "\n",
    "# remove confusables\n",
    "def pre_process_equations(equations):\n",
    "    for equation in equations:\n",
    "        for confusable in confusables:\n",
    "            equation['equation'] = equation['equation'].replace(confusable[0], confusable[1])\n",
    "            equation['condition'] = equation['condition'].replace(confusable[0], confusable[1])\n",
    "\n",
    "# generate the list of values for each independant variables\n",
    "def pre_process_ranges(ranges):\n",
    "    processed_ranges = {}\n",
    "    for var, range_value in ranges.items():\n",
    "        if isinstance(range_value[0], int) and isinstance(range_value[1], int):\n",
    "            processed_ranges[var] = list(range(range_value[0], range_value[1] + 1))\n",
    "        else:\n",
    "            processed_ranges[var] = range_value\n",
    "    return processed_ranges\n",
    "\n",
    "# adding pre requisites required for calculating each dependant variable\n",
    "def add_pre_requisites(equations):\n",
    "    for equation in equations:\n",
    "        equation['calculation_pre_requisites'] = []\n",
    "        equation['condition_pre_requisites'] = []\n",
    "        rhs = equation['equation'].split('=')[1]\n",
    "        condition = equation['condition']\n",
    "        for var in variables:\n",
    "            if var in rhs:\n",
    "                equation['calculation_pre_requisites'].append(var)\n",
    "            if var in condition:\n",
    "                equation['condition_pre_requisites'].append(var)\n",
    "\n",
    "def add_equation_conditions(equations):\n",
    "    equations_dict = {}\n",
    "    for equation in equations:\n",
    "        lhs = equation['equation'].split('=')[0].strip()\n",
    "        if lhs in equations_dict:\n",
    "            equations_dict[lhs].append(equation)\n",
    "        else:\n",
    "            equations_dict[lhs] = [equation]\n",
    "    return equations_dict"
   ]
  },
  {
   "cell_type": "markdown",
   "metadata": {},
   "source": [
    "Yet to implement the cycling dependancy check"
   ]
  },
  {
   "cell_type": "code",
   "execution_count": 289,
   "metadata": {},
   "outputs": [],
   "source": [
    "def check_cyclic_dependancy(equations):\n",
    "    for equation in equations:\n",
    "        lhs = equation['equation'].split('=')[0].strip()\n",
    "        pre_requisites = set(equation['calculation_pre_requisites'] + equation['condition_pre_requisites'])\n",
    "\n",
    "        # yet to implement"
   ]
  },
  {
   "cell_type": "code",
   "execution_count": 290,
   "metadata": {},
   "outputs": [],
   "source": [
    "# pre processing\n",
    "\n",
    "pre_process_equations(equations)\n",
    "add_pre_requisites(equations)\n",
    "ranges = pre_process_ranges(ranges)\n",
    "\n",
    "equations_dict = add_equation_conditions(equations)"
   ]
  },
  {
   "cell_type": "code",
   "execution_count": 291,
   "metadata": {},
   "outputs": [],
   "source": [
    "variables = independant_variables+dependant_variables"
   ]
  },
  {
   "cell_type": "code",
   "execution_count": 292,
   "metadata": {},
   "outputs": [],
   "source": [
    "# creating data frame for the test cases\n",
    "\n",
    "test_cases_df = pd.DataFrame(columns=variables)"
   ]
  },
  {
   "cell_type": "code",
   "execution_count": 293,
   "metadata": {},
   "outputs": [
    {
     "data": {
      "text/html": [
       "<div>\n",
       "<style scoped>\n",
       "    .dataframe tbody tr th:only-of-type {\n",
       "        vertical-align: middle;\n",
       "    }\n",
       "\n",
       "    .dataframe tbody tr th {\n",
       "        vertical-align: top;\n",
       "    }\n",
       "\n",
       "    .dataframe thead th {\n",
       "        text-align: right;\n",
       "    }\n",
       "</style>\n",
       "<table border=\"1\" class=\"dataframe\">\n",
       "  <thead>\n",
       "    <tr style=\"text-align: right;\">\n",
       "      <th></th>\n",
       "      <th>speed</th>\n",
       "      <th>acceleration</th>\n",
       "      <th>time</th>\n",
       "      <th>distance</th>\n",
       "    </tr>\n",
       "  </thead>\n",
       "  <tbody>\n",
       "  </tbody>\n",
       "</table>\n",
       "</div>"
      ],
      "text/plain": [
       "Empty DataFrame\n",
       "Columns: [speed, acceleration, time, distance]\n",
       "Index: []"
      ]
     },
     "execution_count": 293,
     "metadata": {},
     "output_type": "execute_result"
    }
   ],
   "source": [
    "test_cases_df"
   ]
  },
  {
   "cell_type": "code",
   "execution_count": 294,
   "metadata": {},
   "outputs": [],
   "source": [
    "independant_variable_combinations = list(itertools.product(*ranges.values()))"
   ]
  },
  {
   "cell_type": "code",
   "execution_count": 295,
   "metadata": {},
   "outputs": [],
   "source": [
    "# generating different combinations of independent variables\n",
    "\n",
    "for combination in independant_variable_combinations:\n",
    "    new_row = dict(zip(ranges.keys(), combination))\n",
    "    new_row_df = pd.DataFrame([new_row])\n",
    "    test_cases_df = pd.concat([test_cases_df, new_row_df], ignore_index=True)\n"
   ]
  },
  {
   "cell_type": "code",
   "execution_count": 296,
   "metadata": {},
   "outputs": [
    {
     "data": {
      "text/html": [
       "<div>\n",
       "<style scoped>\n",
       "    .dataframe tbody tr th:only-of-type {\n",
       "        vertical-align: middle;\n",
       "    }\n",
       "\n",
       "    .dataframe tbody tr th {\n",
       "        vertical-align: top;\n",
       "    }\n",
       "\n",
       "    .dataframe thead th {\n",
       "        text-align: right;\n",
       "    }\n",
       "</style>\n",
       "<table border=\"1\" class=\"dataframe\">\n",
       "  <thead>\n",
       "    <tr style=\"text-align: right;\">\n",
       "      <th></th>\n",
       "      <th>speed</th>\n",
       "      <th>acceleration</th>\n",
       "      <th>time</th>\n",
       "      <th>distance</th>\n",
       "    </tr>\n",
       "  </thead>\n",
       "  <tbody>\n",
       "    <tr>\n",
       "      <th>389</th>\n",
       "      <td>66</td>\n",
       "      <td>1</td>\n",
       "      <td>1</td>\n",
       "      <td>NaN</td>\n",
       "    </tr>\n",
       "    <tr>\n",
       "      <th>699</th>\n",
       "      <td>79</td>\n",
       "      <td>0</td>\n",
       "      <td>3</td>\n",
       "      <td>NaN</td>\n",
       "    </tr>\n",
       "    <tr>\n",
       "      <th>932</th>\n",
       "      <td>88</td>\n",
       "      <td>5</td>\n",
       "      <td>0</td>\n",
       "      <td>NaN</td>\n",
       "    </tr>\n",
       "    <tr>\n",
       "      <th>190</th>\n",
       "      <td>57</td>\n",
       "      <td>5</td>\n",
       "      <td>2</td>\n",
       "      <td>NaN</td>\n",
       "    </tr>\n",
       "    <tr>\n",
       "      <th>448</th>\n",
       "      <td>68</td>\n",
       "      <td>4</td>\n",
       "      <td>0</td>\n",
       "      <td>NaN</td>\n",
       "    </tr>\n",
       "    <tr>\n",
       "      <th>74</th>\n",
       "      <td>53</td>\n",
       "      <td>0</td>\n",
       "      <td>2</td>\n",
       "      <td>NaN</td>\n",
       "    </tr>\n",
       "    <tr>\n",
       "      <th>84</th>\n",
       "      <td>53</td>\n",
       "      <td>3</td>\n",
       "      <td>0</td>\n",
       "      <td>NaN</td>\n",
       "    </tr>\n",
       "    <tr>\n",
       "      <th>1164</th>\n",
       "      <td>98</td>\n",
       "      <td>3</td>\n",
       "      <td>0</td>\n",
       "      <td>NaN</td>\n",
       "    </tr>\n",
       "    <tr>\n",
       "      <th>301</th>\n",
       "      <td>62</td>\n",
       "      <td>3</td>\n",
       "      <td>1</td>\n",
       "      <td>NaN</td>\n",
       "    </tr>\n",
       "    <tr>\n",
       "      <th>201</th>\n",
       "      <td>58</td>\n",
       "      <td>2</td>\n",
       "      <td>1</td>\n",
       "      <td>NaN</td>\n",
       "    </tr>\n",
       "    <tr>\n",
       "      <th>336</th>\n",
       "      <td>64</td>\n",
       "      <td>0</td>\n",
       "      <td>0</td>\n",
       "      <td>NaN</td>\n",
       "    </tr>\n",
       "    <tr>\n",
       "      <th>470</th>\n",
       "      <td>69</td>\n",
       "      <td>3</td>\n",
       "      <td>2</td>\n",
       "      <td>NaN</td>\n",
       "    </tr>\n",
       "    <tr>\n",
       "      <th>1066</th>\n",
       "      <td>94</td>\n",
       "      <td>2</td>\n",
       "      <td>2</td>\n",
       "      <td>NaN</td>\n",
       "    </tr>\n",
       "    <tr>\n",
       "      <th>219</th>\n",
       "      <td>59</td>\n",
       "      <td>0</td>\n",
       "      <td>3</td>\n",
       "      <td>NaN</td>\n",
       "    </tr>\n",
       "    <tr>\n",
       "      <th>1123</th>\n",
       "      <td>96</td>\n",
       "      <td>4</td>\n",
       "      <td>3</td>\n",
       "      <td>NaN</td>\n",
       "    </tr>\n",
       "  </tbody>\n",
       "</table>\n",
       "</div>"
      ],
      "text/plain": [
       "     speed acceleration time distance\n",
       "389     66            1    1      NaN\n",
       "699     79            0    3      NaN\n",
       "932     88            5    0      NaN\n",
       "190     57            5    2      NaN\n",
       "448     68            4    0      NaN\n",
       "74      53            0    2      NaN\n",
       "84      53            3    0      NaN\n",
       "1164    98            3    0      NaN\n",
       "301     62            3    1      NaN\n",
       "201     58            2    1      NaN\n",
       "336     64            0    0      NaN\n",
       "470     69            3    2      NaN\n",
       "1066    94            2    2      NaN\n",
       "219     59            0    3      NaN\n",
       "1123    96            4    3      NaN"
      ]
     },
     "execution_count": 296,
     "metadata": {},
     "output_type": "execute_result"
    }
   ],
   "source": [
    "test_cases_df.sample(15)"
   ]
  },
  {
   "cell_type": "markdown",
   "metadata": {},
   "source": [
    "Sorting the dependent variables based on the number of in-degrees"
   ]
  },
  {
   "cell_type": "code",
   "execution_count": 297,
   "metadata": {},
   "outputs": [],
   "source": [
    "def sort_keys(key):\n",
    "    equations = equations_dict[key]\n",
    "    cumulative_prerequisites = sum(\n",
    "        len(eq.get('calculation_pre_requisites', [])) + len(eq.get('condition_pre_requisites', []))\n",
    "        for eq in equations\n",
    "    )\n",
    "    return cumulative_prerequisites\n",
    "\n",
    "sorted_keys = sorted(equations_dict.keys(), key=sort_keys)\n",
    "\n",
    "sorted_equations_dict = {key: equations_dict[key] for key in sorted_keys}"
   ]
  },
  {
   "cell_type": "code",
   "execution_count": 298,
   "metadata": {},
   "outputs": [],
   "source": [
    "def sort_dependant_variables(dependant_variable):\n",
    "    return sorted_keys.index(dependant_variable)\n",
    "\n",
    "# Sort the list of dependent variables based on the custom key function\n",
    "dependant_variables = sorted(dependant_variables, key=sort_dependant_variables)\n"
   ]
  },
  {
   "cell_type": "markdown",
   "metadata": {},
   "source": [
    "## Yet to write Algorithm for implementing Graph Dependancy Model for Finding cyclic dependency and to start filling from 0 in-degree\n"
   ]
  },
  {
   "cell_type": "code",
   "execution_count": 299,
   "metadata": {},
   "outputs": [],
   "source": [
    "for variable in dependant_variables:\n",
    "    equations = equations_dict.get(variable, [])\n",
    "    \n",
    "    for index, row in test_cases_df.iterrows():\n",
    "\n",
    "        for equation_info in equations:\n",
    "            equation = equation_info['equation']\n",
    "            equation_rhs = equation.split('=')[1]\n",
    "            condition = equation_info['condition']\n",
    "            calculation_pre_requisites = equation_info['calculation_pre_requisites']\n",
    "            condition_pre_requisites = equation_info['condition_pre_requisites']\n",
    "\n",
    "            # Check if condition matches\n",
    "            if eval(condition, row[condition_pre_requisites].to_dict()):\n",
    "\n",
    "                # Calculate value using eval\n",
    "                calculated_value = eval(equation_rhs, row[calculation_pre_requisites].to_dict())\n",
    "                test_cases_df.at[index, variable] = calculated_value"
   ]
  },
  {
   "cell_type": "code",
   "execution_count": 300,
   "metadata": {},
   "outputs": [
    {
     "data": {
      "text/html": [
       "<div>\n",
       "<style scoped>\n",
       "    .dataframe tbody tr th:only-of-type {\n",
       "        vertical-align: middle;\n",
       "    }\n",
       "\n",
       "    .dataframe tbody tr th {\n",
       "        vertical-align: top;\n",
       "    }\n",
       "\n",
       "    .dataframe thead th {\n",
       "        text-align: right;\n",
       "    }\n",
       "</style>\n",
       "<table border=\"1\" class=\"dataframe\">\n",
       "  <thead>\n",
       "    <tr style=\"text-align: right;\">\n",
       "      <th></th>\n",
       "      <th>speed</th>\n",
       "      <th>acceleration</th>\n",
       "      <th>time</th>\n",
       "      <th>distance</th>\n",
       "    </tr>\n",
       "  </thead>\n",
       "  <tbody>\n",
       "    <tr>\n",
       "      <th>406</th>\n",
       "      <td>66</td>\n",
       "      <td>5</td>\n",
       "      <td>2</td>\n",
       "      <td>10.0</td>\n",
       "    </tr>\n",
       "    <tr>\n",
       "      <th>441</th>\n",
       "      <td>68</td>\n",
       "      <td>2</td>\n",
       "      <td>1</td>\n",
       "      <td>1.0</td>\n",
       "    </tr>\n",
       "    <tr>\n",
       "      <th>1002</th>\n",
       "      <td>91</td>\n",
       "      <td>4</td>\n",
       "      <td>2</td>\n",
       "      <td>182</td>\n",
       "    </tr>\n",
       "    <tr>\n",
       "      <th>859</th>\n",
       "      <td>85</td>\n",
       "      <td>4</td>\n",
       "      <td>3</td>\n",
       "      <td>255</td>\n",
       "    </tr>\n",
       "    <tr>\n",
       "      <th>199</th>\n",
       "      <td>58</td>\n",
       "      <td>1</td>\n",
       "      <td>3</td>\n",
       "      <td>4.5</td>\n",
       "    </tr>\n",
       "    <tr>\n",
       "      <th>687</th>\n",
       "      <td>78</td>\n",
       "      <td>3</td>\n",
       "      <td>3</td>\n",
       "      <td>234</td>\n",
       "    </tr>\n",
       "    <tr>\n",
       "      <th>887</th>\n",
       "      <td>86</td>\n",
       "      <td>5</td>\n",
       "      <td>3</td>\n",
       "      <td>258</td>\n",
       "    </tr>\n",
       "    <tr>\n",
       "      <th>103</th>\n",
       "      <td>54</td>\n",
       "      <td>1</td>\n",
       "      <td>3</td>\n",
       "      <td>4.5</td>\n",
       "    </tr>\n",
       "    <tr>\n",
       "      <th>1185</th>\n",
       "      <td>99</td>\n",
       "      <td>2</td>\n",
       "      <td>1</td>\n",
       "      <td>99</td>\n",
       "    </tr>\n",
       "    <tr>\n",
       "      <th>914</th>\n",
       "      <td>88</td>\n",
       "      <td>0</td>\n",
       "      <td>2</td>\n",
       "      <td>176</td>\n",
       "    </tr>\n",
       "    <tr>\n",
       "      <th>864</th>\n",
       "      <td>86</td>\n",
       "      <td>0</td>\n",
       "      <td>0</td>\n",
       "      <td>0</td>\n",
       "    </tr>\n",
       "    <tr>\n",
       "      <th>537</th>\n",
       "      <td>72</td>\n",
       "      <td>2</td>\n",
       "      <td>1</td>\n",
       "      <td>1.0</td>\n",
       "    </tr>\n",
       "    <tr>\n",
       "      <th>707</th>\n",
       "      <td>79</td>\n",
       "      <td>2</td>\n",
       "      <td>3</td>\n",
       "      <td>237</td>\n",
       "    </tr>\n",
       "    <tr>\n",
       "      <th>157</th>\n",
       "      <td>56</td>\n",
       "      <td>3</td>\n",
       "      <td>1</td>\n",
       "      <td>1.5</td>\n",
       "    </tr>\n",
       "    <tr>\n",
       "      <th>579</th>\n",
       "      <td>74</td>\n",
       "      <td>0</td>\n",
       "      <td>3</td>\n",
       "      <td>0.0</td>\n",
       "    </tr>\n",
       "    <tr>\n",
       "      <th>1168</th>\n",
       "      <td>98</td>\n",
       "      <td>4</td>\n",
       "      <td>0</td>\n",
       "      <td>0</td>\n",
       "    </tr>\n",
       "    <tr>\n",
       "      <th>921</th>\n",
       "      <td>88</td>\n",
       "      <td>2</td>\n",
       "      <td>1</td>\n",
       "      <td>88</td>\n",
       "    </tr>\n",
       "    <tr>\n",
       "      <th>1094</th>\n",
       "      <td>95</td>\n",
       "      <td>3</td>\n",
       "      <td>2</td>\n",
       "      <td>190</td>\n",
       "    </tr>\n",
       "    <tr>\n",
       "      <th>1214</th>\n",
       "      <td>100</td>\n",
       "      <td>3</td>\n",
       "      <td>2</td>\n",
       "      <td>200</td>\n",
       "    </tr>\n",
       "    <tr>\n",
       "      <th>334</th>\n",
       "      <td>63</td>\n",
       "      <td>5</td>\n",
       "      <td>2</td>\n",
       "      <td>10.0</td>\n",
       "    </tr>\n",
       "  </tbody>\n",
       "</table>\n",
       "</div>"
      ],
      "text/plain": [
       "     speed acceleration time distance\n",
       "406     66            5    2     10.0\n",
       "441     68            2    1      1.0\n",
       "1002    91            4    2      182\n",
       "859     85            4    3      255\n",
       "199     58            1    3      4.5\n",
       "687     78            3    3      234\n",
       "887     86            5    3      258\n",
       "103     54            1    3      4.5\n",
       "1185    99            2    1       99\n",
       "914     88            0    2      176\n",
       "864     86            0    0        0\n",
       "537     72            2    1      1.0\n",
       "707     79            2    3      237\n",
       "157     56            3    1      1.5\n",
       "579     74            0    3      0.0\n",
       "1168    98            4    0        0\n",
       "921     88            2    1       88\n",
       "1094    95            3    2      190\n",
       "1214   100            3    2      200\n",
       "334     63            5    2     10.0"
      ]
     },
     "execution_count": 300,
     "metadata": {},
     "output_type": "execute_result"
    }
   ],
   "source": [
    "test_cases_df.sample(20)"
   ]
  },
  {
   "cell_type": "code",
   "execution_count": 301,
   "metadata": {},
   "outputs": [
    {
     "data": {
      "text/html": [
       "<div>\n",
       "<style scoped>\n",
       "    .dataframe tbody tr th:only-of-type {\n",
       "        vertical-align: middle;\n",
       "    }\n",
       "\n",
       "    .dataframe tbody tr th {\n",
       "        vertical-align: top;\n",
       "    }\n",
       "\n",
       "    .dataframe thead th {\n",
       "        text-align: right;\n",
       "    }\n",
       "</style>\n",
       "<table border=\"1\" class=\"dataframe\">\n",
       "  <thead>\n",
       "    <tr style=\"text-align: right;\">\n",
       "      <th></th>\n",
       "      <th>speed</th>\n",
       "      <th>acceleration</th>\n",
       "      <th>time</th>\n",
       "      <th>distance</th>\n",
       "    </tr>\n",
       "  </thead>\n",
       "  <tbody>\n",
       "    <tr>\n",
       "      <th>count</th>\n",
       "      <td>1224</td>\n",
       "      <td>1224</td>\n",
       "      <td>1224</td>\n",
       "      <td>1224.0</td>\n",
       "    </tr>\n",
       "    <tr>\n",
       "      <th>unique</th>\n",
       "      <td>51</td>\n",
       "      <td>6</td>\n",
       "      <td>4</td>\n",
       "      <td>90.0</td>\n",
       "    </tr>\n",
       "    <tr>\n",
       "      <th>top</th>\n",
       "      <td>50</td>\n",
       "      <td>0</td>\n",
       "      <td>0</td>\n",
       "      <td>0.0</td>\n",
       "    </tr>\n",
       "    <tr>\n",
       "      <th>freq</th>\n",
       "      <td>24</td>\n",
       "      <td>204</td>\n",
       "      <td>306</td>\n",
       "      <td>384.0</td>\n",
       "    </tr>\n",
       "  </tbody>\n",
       "</table>\n",
       "</div>"
      ],
      "text/plain": [
       "        speed  acceleration  time  distance\n",
       "count    1224          1224  1224    1224.0\n",
       "unique     51             6     4      90.0\n",
       "top        50             0     0       0.0\n",
       "freq       24           204   306     384.0"
      ]
     },
     "execution_count": 301,
     "metadata": {},
     "output_type": "execute_result"
    }
   ],
   "source": [
    "test_cases_df.describe(include = 'all')"
   ]
  },
  {
   "cell_type": "code",
   "execution_count": 302,
   "metadata": {},
   "outputs": [
    {
     "data": {
      "image/png": "[encoded data removed]",
      "text/plain": [
       "<Figure size 640x480 with 1 Axes>"
      ]
     },
     "metadata": {},
     "output_type": "display_data"
    }
   ],
   "source": [
    "for variable in dependant_variables:\n",
    "    plt.hist(test_cases_df[variable])\n",
    "    plt.title(variable.capitalize())\n",
    "    plt.xlabel(f'{variable} value')\n",
    "    plt.ylabel('count')\n",
    "    plt.show() "
   ]
  },
  {
   "cell_type": "code",
   "execution_count": 303,
   "metadata": {},
   "outputs": [
    {
     "name": "stdout",
     "output_type": "stream",
     "text": [
      "Statistics for distance:\n",
      "Minimum: 0.0\n",
      "Maximum: 300\n",
      "Median: 6.0\n",
      "Unique values: 90\n",
      "\n"
     ]
    }
   ],
   "source": [
    "# printing statistics\n",
    "\n",
    "for dependent_variable in dependant_variables:\n",
    "    print(f\"Statistics for {dependent_variable}:\")\n",
    "    print(f\"Minimum: {test_cases_df[dependent_variable].min()}\")\n",
    "    print(f\"Maximum: {test_cases_df[dependent_variable].max()}\")\n",
    "    print(f\"Median: {test_cases_df[dependent_variable].median()}\")\n",
    "    print(f\"Unique values: {test_cases_df[dependent_variable].nunique()}\")\n",
    "    print()"
   ]
  },
  {
   "cell_type": "code",
   "execution_count": 304,
   "metadata": {},
   "outputs": [
    {
     "data": {
      "image/png": "[encoded data removed]",
      "text/plain": [
       "<Figure size 1500x800 with 3 Axes>"
      ]
     },
     "metadata": {},
     "output_type": "display_data"
    }
   ],
   "source": [
    "num_variables = len(independant_variables)\n",
    "num_dependent_variables = len(dependant_variables)\n",
    "\n",
    "fig, axs = plt.subplots(num_dependent_variables, num_variables, figsize=(15, 8))\n",
    "\n",
    "if num_dependent_variables == 1:\n",
    "    axs = axs.reshape(1, num_variables)\n",
    "\n",
    "for j, dependent_variable in enumerate(dependant_variables):\n",
    "    for i, independent_variable in enumerate(independant_variables):\n",
    "        axs[j, i].scatter(test_cases_df[independent_variable], test_cases_df[dependent_variable])\n",
    "        axs[j, i].set_title(f'{independent_variable.capitalize()} vs {dependent_variable.capitalize()}')\n",
    "        axs[j, i].set_xlabel(f'{independent_variable.capitalize()}')\n",
    "        axs[j, i].set_ylabel(f'{dependent_variable.capitalize()}')\n",
    "\n",
    "plt.tight_layout()\n",
    "plt.show()"
   ]
  },
  {
   "cell_type": "code",
   "execution_count": null,
   "metadata": {},
   "outputs": [],
   "source": []
  }
 ],
 "metadata": {
  "kernelspec": {
   "display_name": "Python 3",
   "language": "python",
   "name": "python3"
  },
  "language_info": {
   "codemirror_mode": {
    "name": "ipython",
    "version": 3
   },
   "file_extension": ".py",
   "mimetype": "text/x-python",
   "name": "python",
   "nbconvert_exporter": "python",
   "pygments_lexer": "ipython3",
   "version": "3.10.7"
  }
 },
 "nbformat": 4,
 "nbformat_minor": 2
}

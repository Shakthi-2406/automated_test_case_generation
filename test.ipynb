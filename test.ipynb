{
 "cells": [
  {
   "cell_type": "code",
   "execution_count": 1,
   "metadata": {},
   "outputs": [],
   "source": [
    "from langchain.llms import CTransformers\n",
    "from langchain.chains import LLMChain\n",
    "from langchain_core.prompts import PromptTemplate\n"
   ]
  },
  {
   "cell_type": "code",
   "execution_count": 2,
   "metadata": {},
   "outputs": [
    {
     "name": "stderr",
     "output_type": "stream",
     "text": [
      "d:\\Desktop\\AI_LAB\\ISRO\\automated_test_case_generation_Copy\\.isro\\Lib\\site-packages\\tqdm\\auto.py:21: TqdmWarning: IProgress not found. Please update jupyter and ipywidgets. See https://ipywidgets.readthedocs.io/en/stable/user_install.html\n",
      "  from .autonotebook import tqdm as notebook_tqdm\n"
     ]
    }
   ],
   "source": [
    "llm = CTransformers(\n",
    "            model='llama-2-7b.ggmlv3.q8_0.bin',\n",
    "            model_type='llama',\n",
    "            config={\n",
    "                \"max_new_tokens\":512,\n",
    "                \"temperature\":0.3,\n",
    "                \"context_length\":2048\n",
    "            }\n",
    "        )"
   ]
  },
  {
   "cell_type": "code",
   "execution_count": 11,
   "metadata": {},
   "outputs": [],
   "source": [
    "example = \"\"\"{\"variables\" : ['a', 'b',....],\n",
    "\"equations\" : [{'equation' : 'b = 2*d', 'condition': None},\n",
    "                {'equation':  'a = b+c', 'condition': 'b>0'},\n",
    "                {'equation':  'a = b+c', 'condition': 'mode == \"enabled\" and speed > 120'}.... {}]\n",
    "}\"\"\"\n",
    "output_condition = \"Start your response with the json open brace '{' and end the response with '}'\""
   ]
  },
  {
   "cell_type": "code",
   "execution_count": 4,
   "metadata": {},
   "outputs": [],
   "source": [
    "EQUATION_SYS_PROMPT_TEMPLATE = \"\"\"\n",
    "You are a python equation generator.\n",
    "You will be given a functional requirement document of a satellite.\n",
    "The document will contain conditions and equations of technicalities related to satellites in natural language.\n",
    "Your task is to analyse the given document.\n",
    "- Identify ALL the variables present and ALL the equations present in the document.\n",
    "- For the equations, all the conditions and equation should be a python executable command or line which can be executed by eval.\n",
    "- Give equations in the order of their executions. Use None instead of null. Identify ALL the variables present.\n",
    "- You will be given example input document and example output JSON.\n",
    "You have to return the output in the following JSON format.\n",
    "```json\n",
    "{example}\n",
    "```\n",
    "Example input document: {input_frd} \n",
    "Example output json: {output_frd}\n",
    "{output_condition}\n",
    "\"\"\"\n",
    "\n",
    "USER_PROMPT = \"\"\"\n",
    "Input Document: {document}.\n",
    "\"\"\"\n",
    "\n",
    "EQUATION_PROMPT_TEMPLATE = f\"\"\"\n",
    "<s>[INST]\\n<<SYS>>\\n{EQUATION_SYS_PROMPT_TEMPLATE}\\n<</SYS>>\\n\\n{USER_PROMPT}[/INST]\\nOutput Json: \n",
    "\"\"\""
   ]
  },
  {
   "cell_type": "code",
   "execution_count": 5,
   "metadata": {},
   "outputs": [],
   "source": [
    "prompt = PromptTemplate(\n",
    "    input_variables=[\"input_frd\",\"output_frd\",\"document\",\"example\",\"output_condition\"], template=EQUATION_PROMPT_TEMPLATE\n",
    ")"
   ]
  },
  {
   "cell_type": "code",
   "execution_count": 10,
   "metadata": {},
   "outputs": [],
   "source": [
    "FRD = '''\n",
    "Auto_Drift_Estimate - [\"enabled\", \"not_enabled\"]\n",
    "a0 - [1, 2]\n",
    "a1 - [2, 2]\n",
    "a2 - [3, 5]\n",
    "a3 - [0, 2]\n",
    "a4 - [0, 1]\n",
    "a5 - [1, 2]\n",
    "a6 - [0, 2]\n",
    "actual_frequency - [7000, 7010]\n",
    "present_temperature - [-10, 50]\n",
    "RANGE_END_TAG\n",
    "\n",
    "If Auto_Drift_Estimate Enabled\n",
    "If -10 < present_temperature < 55 then\n",
    "delfbyf0 = a0 + a1 * (present_temperature - temp0) + a2 * (present_temperature - temp0)^2 + a3 * (present_temperature - temp0)^3 + a4 * (present_temperature - temp0)^4 + a5 * (present_temperature - temp0)^5 + a6 * (present_temperature - temp0)^6\n",
    "Where\n",
    "f0 = (1/0.000125)\n",
    "theoretical_frequency = f0\n",
    "deltaf = actual_frequency - theoretical_frequency\n",
    "temp0 = 25 deg\n",
    "The above logic shall be computed every 7 sec as the temperature reading shall happen every 7 sec.\n",
    "deltaf = f0 * delfbyf0\n",
    "new_time_period = 1/(f0 + deltaf)\n",
    "delta_time_period = new_time_period - t0\n",
    "'''\n",
    "\n",
    "\n",
    "input_frd = \"\"\"\n",
    "Auto_drift - [0, 1, 0.5]\n",
    "operation - [\"fight\", \"no\"]\n",
    "curvature - [100, 102, 1]\n",
    "_RANGE_END_TAG_\n",
    "\n",
    "beta = 100\n",
    "temp0 = 40 deg\n",
    "If Auto_drift is 0,\n",
    "then beam = curvature + 5 + temp\n",
    "else,\n",
    "beam = curvature * 5\n",
    "\"\"\"\n",
    "\n",
    "output_frd = \"\"\"\n",
    "{\n",
    "\"variables\": ['beta', 'temp0', 'Auto_drift', 'curvature', 'beam'],\n",
    "\"equations\": [\n",
    "{'equation': 'beta = 100', 'condition': None}, \n",
    "{'equation': 'temp0 = 40', 'condition': None}, \n",
    "{'equation': 'beam = curvature + 5 + temp', 'condition': 'Auto_drift == 0 and operation == \"fight\"'}, \n",
    "{'equation':  'beam = curvature * 5', 'condition': 'Auto_drift != 0'} \n",
    "]\n",
    "}\n",
    "\"\"\""
   ]
  },
  {
   "cell_type": "code",
   "execution_count": 7,
   "metadata": {},
   "outputs": [],
   "source": [
    "op = prompt.format_prompt(input_frd=input_frd,\n",
    "                     output_frd=output_frd,\n",
    "                     document=FRD,\n",
    "                     example=example,\n",
    "                     output_condition=output_condition)"
   ]
  },
  {
   "cell_type": "code",
   "execution_count": 9,
   "metadata": {},
   "outputs": [],
   "source": [
    "llm_chain = LLMChain(llm=llm, prompt=prompt)\n"
   ]
  },
  {
   "cell_type": "code",
   "execution_count": null,
   "metadata": {},
   "outputs": [],
   "source": [
    "completion = llm_chain.predict(input_frd=input_frd,\n",
    "                     output_frd=output_frd,\n",
    "                     document=FRD,\n",
    "                     example=example,\n",
    "                     output_condition=output_condition)"
   ]
  },
  {
   "cell_type": "code",
   "execution_count": null,
   "metadata": {},
   "outputs": [],
   "source": [
    "print(completion)"
   ]
  },
  {
   "cell_type": "code",
   "execution_count": null,
   "metadata": {},
   "outputs": [],
   "source": [
    "print(completion.text)"
   ]
  },
  {
   "cell_type": "code",
   "execution_count": null,
   "metadata": {},
   "outputs": [],
   "source": [
    "print(\"thank you good night\")"
   ]
  },
  {
   "cell_type": "code",
   "execution_count": null,
   "metadata": {},
   "outputs": [],
   "source": []
  }
 ],
 "metadata": {
  "kernelspec": {
   "display_name": ".isro",
   "language": "python",
   "name": "python3"
  },
  "language_info": {
   "codemirror_mode": {
    "name": "ipython",
    "version": 3
   },
   "file_extension": ".py",
   "mimetype": "text/x-python",
   "name": "python",
   "nbconvert_exporter": "python",
   "pygments_lexer": "ipython3",
   "version": "3.11.7"
  }
 },
 "nbformat": 4,
 "nbformat_minor": 2
}
